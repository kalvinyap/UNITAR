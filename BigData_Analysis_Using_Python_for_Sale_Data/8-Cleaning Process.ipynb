{
 "cells": [
  {
   "cell_type": "code",
   "execution_count": 8,
   "id": "54dbc97e",
   "metadata": {},
   "outputs": [
    {
     "name": "stdout",
     "output_type": "stream",
     "text": [
      "Date                0\n",
      "Day                 0\n",
      "Month               0\n",
      "Year                0\n",
      "Customer_Age        0\n",
      "Age_Group           0\n",
      "Customer_Gender     0\n",
      "Country             0\n",
      "State               0\n",
      "Product_Category    0\n",
      "Sub_Category        0\n",
      "Product             0\n",
      "Order_Quantity      0\n",
      "Unit_Cost           0\n",
      "Unit_Price          0\n",
      "Profit              0\n",
      "Cost                0\n",
      "Revenue             0\n",
      "dtype: int64\n",
      "\n",
      "Duplicate Rows: 0\n"
     ]
    }
   ],
   "source": [
    "# Data Manipulation\n",
    "import pandas as pd\n",
    "\n",
    "# Data Visualisation\n",
    "import matplotlib.pyplot as plt\n",
    "\n",
    "%matplotlib inline\n",
    "import seaborn as sns\n",
    "\n",
    "# Import csv data\n",
    "df = pd.read_csv('sales_data_na.csv')\n",
    "\n",
    "# drop rows with any missing values\n",
    "df = df.dropna()\n",
    "\n",
    "# drop duplicate rows\n",
    "df = df.drop_duplicates()\n",
    "\n",
    "# Identify If any missing values in the csv data\n",
    "missing_values = df.isnull().sum()\n",
    "print(missing_values)\n",
    "\n",
    "print(\"\")\n",
    "\n",
    "# Identify If any duplicate rows in the csv data\n",
    "duplicate_rows = df.duplicated().sum()\n",
    "print(\"Duplicate Rows: \" + str(duplicate_rows))\n",
    "\n",
    "# Write the updated DataFrame back to new CSV file\n",
    "df.to_csv('sales_data_fixed.csv', index=False)\n"
   ]
  },
  {
   "cell_type": "code",
   "execution_count": null,
   "id": "a930013e",
   "metadata": {},
   "outputs": [],
   "source": []
  }
 ],
 "metadata": {
  "kernelspec": {
   "display_name": "Python 3 (ipykernel)",
   "language": "python",
   "name": "python3"
  },
  "language_info": {
   "codemirror_mode": {
    "name": "ipython",
    "version": 3
   },
   "file_extension": ".py",
   "mimetype": "text/x-python",
   "name": "python",
   "nbconvert_exporter": "python",
   "pygments_lexer": "ipython3",
   "version": "3.11.1"
  }
 },
 "nbformat": 4,
 "nbformat_minor": 5
}
