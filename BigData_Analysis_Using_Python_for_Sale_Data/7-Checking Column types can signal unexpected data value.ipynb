{
 "cells": [
  {
   "cell_type": "code",
   "execution_count": 3,
   "id": "54dbc97e",
   "metadata": {},
   "outputs": [
    {
     "name": "stdout",
     "output_type": "stream",
     "text": [
      "<class 'pandas.core.frame.DataFrame'>\n",
      "RangeIndex: 113037 entries, 0 to 113036\n",
      "Data columns (total 18 columns):\n",
      " #   Column            Non-Null Count   Dtype  \n",
      "---  ------            --------------   -----  \n",
      " 0   Date              113037 non-null  object \n",
      " 1   Day               113037 non-null  int64  \n",
      " 2   Month             113036 non-null  object \n",
      " 3   Year              113037 non-null  int64  \n",
      " 4   Customer_Age      113036 non-null  float64\n",
      " 5   Age_Group         113036 non-null  object \n",
      " 6   Customer_Gender   113037 non-null  object \n",
      " 7   Country           113037 non-null  object \n",
      " 8   State             113036 non-null  object \n",
      " 9   Product_Category  113037 non-null  object \n",
      " 10  Sub_Category      113037 non-null  object \n",
      " 11  Product           113036 non-null  object \n",
      " 12  Order_Quantity    113037 non-null  int64  \n",
      " 13  Unit_Cost         113034 non-null  float64\n",
      " 14  Unit_Price        113036 non-null  float64\n",
      " 15  Profit            113034 non-null  float64\n",
      " 16  Cost              113036 non-null  float64\n",
      " 17  Revenue           113032 non-null  float64\n",
      "dtypes: float64(6), int64(3), object(9)\n",
      "memory usage: 15.5+ MB\n"
     ]
    }
   ],
   "source": [
    "# Data Manipulation\n",
    "import pandas as pd\n",
    "\n",
    "# Data Visualisation\n",
    "import matplotlib.pyplot as plt\n",
    "\n",
    "%matplotlib inline\n",
    "import seaborn as sns\n",
    "\n",
    "# Import csv data\n",
    "df = pd.read_csv('sales_data_na.csv')\n",
    "\n",
    "# Checking Column types can signal unexpected data value\n",
    "df.info()\n"
   ]
  },
  {
   "cell_type": "code",
   "execution_count": null,
   "id": "a930013e",
   "metadata": {},
   "outputs": [],
   "source": []
  }
 ],
 "metadata": {
  "kernelspec": {
   "display_name": "Python 3 (ipykernel)",
   "language": "python",
   "name": "python3"
  },
  "language_info": {
   "codemirror_mode": {
    "name": "ipython",
    "version": 3
   },
   "file_extension": ".py",
   "mimetype": "text/x-python",
   "name": "python",
   "nbconvert_exporter": "python",
   "pygments_lexer": "ipython3",
   "version": "3.11.1"
  }
 },
 "nbformat": 4,
 "nbformat_minor": 5
}
