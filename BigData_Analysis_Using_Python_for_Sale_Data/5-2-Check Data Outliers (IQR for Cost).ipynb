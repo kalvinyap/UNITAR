{
 "cells": [
  {
   "cell_type": "code",
   "execution_count": 1,
   "id": "54dbc97e",
   "metadata": {},
   "outputs": [
    {
     "name": "stdout",
     "output_type": "stream",
     "text": [
      "              Date  Day     Month  Year  Customer_Age             Age_Group   \n",
      "32       5/23/2014   23       May  2014          47.0        Adults (35-64)  \\\n",
      "36      11/11/2013   11  November  2013          34.0  Young Adults (25-34)   \n",
      "52       8/17/2013   17    August  2013          43.0        Adults (35-64)   \n",
      "53       8/17/2015   17    August  2015          43.0        Adults (35-64)   \n",
      "90       2/12/2014   12  February  2014          46.0        Adults (35-64)   \n",
      "...            ...  ...       ...   ...           ...                   ...   \n",
      "112070   2/27/2016   27  February  2016          37.0        Adults (35-64)   \n",
      "112071   6/13/2014   13      June  2014          37.0        Adults (35-64)   \n",
      "112072   6/13/2016   13      June  2016          37.0        Adults (35-64)   \n",
      "112073   7/24/2013   24      July  2013          52.0        Adults (35-64)   \n",
      "112074   7/24/2015   24      July  2015          52.0        Adults (35-64)   \n",
      "\n",
      "       Customer_Gender         Country             State Product_Category   \n",
      "32                   F          Canada  British Columbia      Accessories  \\\n",
      "36                   M          Canada  British Columbia      Accessories   \n",
      "52                   F          France           Moselle      Accessories   \n",
      "53                   F          France           Moselle      Accessories   \n",
      "90                   M   United States        California      Accessories   \n",
      "...                ...             ...               ...              ...   \n",
      "112070               F  United Kingdom           England            Bikes   \n",
      "112071               F  United Kingdom           England            Bikes   \n",
      "112072               F  United Kingdom           England            Bikes   \n",
      "112073               M       Australia        Queensland         Clothing   \n",
      "112074               M       Australia        Queensland         Clothing   \n",
      "\n",
      "         Sub_Category                  Product  Order_Quantity  Unit_Cost   \n",
      "32         Bike Racks      Hitch Rack - 4-Bike              24       45.0  \\\n",
      "36         Bike Racks      Hitch Rack - 4-Bike              25       45.0   \n",
      "52         Bike Racks      Hitch Rack - 4-Bike              28       45.0   \n",
      "53         Bike Racks      Hitch Rack - 4-Bike              27       45.0   \n",
      "90         Bike Racks      Hitch Rack - 4-Bike              30       45.0   \n",
      "...               ...                      ...             ...        ...   \n",
      "112070  Touring Bikes    Touring-1000 Blue, 54               2     1482.0   \n",
      "112071  Touring Bikes    Touring-1000 Blue, 54               1     1482.0   \n",
      "112072  Touring Bikes    Touring-1000 Blue, 54               2     1482.0   \n",
      "112073          Vests  Touring-1000 Yellow, 50              27     1482.0   \n",
      "112074          Vests  Touring-1000 Yellow, 50              29     1482.0   \n",
      "\n",
      "        Unit_Price   Profit     Cost  Revenue  \n",
      "32           120.0   1771.0   1080.0   2851.0  \n",
      "36           120.0   1845.0   1125.0   2970.0  \n",
      "52           120.0   1697.0   1260.0   2957.0  \n",
      "53           120.0   1636.0   1215.0   2851.0  \n",
      "90           120.0   2178.0   1350.0   3528.0  \n",
      "...            ...      ...      ...      ...  \n",
      "112070      2384.0   1613.0   2964.0   4577.0  \n",
      "112071      2384.0    807.0   1482.0   2289.0  \n",
      "112072      2384.0   1613.0   2964.0   4577.0  \n",
      "112073      2384.0  14055.0  40014.0  54069.0  \n",
      "112074      2384.0  15096.0  42978.0  58074.0  \n",
      "\n",
      "[18179 rows x 18 columns]\n"
     ]
    }
   ],
   "source": [
    "# Data Manipulation\n",
    "import pandas as pd\n",
    "\n",
    "# Data Visualisation\n",
    "import matplotlib.pyplot as plt\n",
    "\n",
    "%matplotlib inline\n",
    "import seaborn as sns\n",
    "\n",
    "# Import csv data\n",
    "df = pd.read_csv('sales_data_na.csv')\n",
    "\n",
    "# Calculate the IQR\n",
    "Q1 = df['Cost'].quantile(0.25)\n",
    "Q3 = df['Cost'].quantile(0.75)\n",
    "IQR = Q3 - Q1\n",
    "\n",
    "\n",
    "# Identify the outliers using the IQR method\n",
    "outliers = df[(df['Cost'] < Q1 - 1.5 * IQR) | (df['Cost'] > Q3 + 1.5 * IQR)]\n",
    "\n",
    "print(outliers)\n"
   ]
  },
  {
   "cell_type": "code",
   "execution_count": null,
   "id": "a930013e",
   "metadata": {},
   "outputs": [],
   "source": []
  }
 ],
 "metadata": {
  "kernelspec": {
   "display_name": "Python 3 (ipykernel)",
   "language": "python",
   "name": "python3"
  },
  "language_info": {
   "codemirror_mode": {
    "name": "ipython",
    "version": 3
   },
   "file_extension": ".py",
   "mimetype": "text/x-python",
   "name": "python",
   "nbconvert_exporter": "python",
   "pygments_lexer": "ipython3",
   "version": "3.11.1"
  }
 },
 "nbformat": 4,
 "nbformat_minor": 5
}
