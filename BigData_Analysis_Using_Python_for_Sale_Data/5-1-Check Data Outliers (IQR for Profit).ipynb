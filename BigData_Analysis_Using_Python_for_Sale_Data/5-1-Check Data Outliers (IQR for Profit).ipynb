{
 "cells": [
  {
   "cell_type": "code",
   "execution_count": 5,
   "id": "54dbc97e",
   "metadata": {},
   "outputs": [
    {
     "name": "stdout",
     "output_type": "stream",
     "text": [
      "             Date  Day     Month  Year  Customer_Age             Age_Group   \n",
      "2       3/23/2014   23     March  2014           NaN        Adults (35-64)  \\\n",
      "3       3/23/2016   23     March  2016          49.0        Adults (35-64)   \n",
      "8       2/22/2014   22  February  2014          35.0        Adults (35-64)   \n",
      "9       2/22/2016   22  February  2016          35.0        Adults (35-64)   \n",
      "30      3/13/2014   13     March  2014          48.0        Adults (35-64)   \n",
      "...           ...  ...       ...   ...           ...                   ...   \n",
      "113012  4/10/2016   10     April  2016          25.0  Young Adults (25-34)   \n",
      "113021  10/2/2013    2   October  2013          34.0  Young Adults (25-34)   \n",
      "113022  10/2/2015    2   October  2015          34.0  Young Adults (25-34)   \n",
      "113023  3/20/2014   20     March  2014          34.0  Young Adults (25-34)   \n",
      "113024  3/20/2016   20     March  2016          34.0  Young Adults (25-34)   \n",
      "\n",
      "       Customer_Gender        Country             State Product_Category   \n",
      "2                    M      Australia               NaN      Accessories  \\\n",
      "3                    M      Australia   New South Wales      Accessories   \n",
      "8                    M      Australia          Victoria      Accessories   \n",
      "9                    M      Australia          Victoria      Accessories   \n",
      "30                   F         Canada  British Columbia      Accessories   \n",
      "...                ...            ...               ...              ...   \n",
      "113012               M        Germany           Hamburg         Clothing   \n",
      "113021               M  United States        California         Clothing   \n",
      "113022               M  United States        California         Clothing   \n",
      "113023               M  United States        California         Clothing   \n",
      "113024               M  United States        California         Clothing   \n",
      "\n",
      "       Sub_Category              Product  Order_Quantity  Unit_Cost   \n",
      "2        Bike Racks  Hitch Rack - 4-Bike              23       45.0  \\\n",
      "3        Bike Racks  Hitch Rack - 4-Bike              20       45.0   \n",
      "8        Bike Racks  Hitch Rack - 4-Bike              22       45.0   \n",
      "9        Bike Racks  Hitch Rack - 4-Bike              21       45.0   \n",
      "30       Bike Racks  Hitch Rack - 4-Bike              20       45.0   \n",
      "...             ...                  ...             ...        ...   \n",
      "113012        Vests      Classic Vest, S              28       24.0   \n",
      "113021        Vests      Classic Vest, S              25       24.0   \n",
      "113022        Vests      Classic Vest, S              24       24.0   \n",
      "113023        Vests      Classic Vest, S              28       24.0   \n",
      "113024        Vests      Classic Vest, S              26       24.0   \n",
      "\n",
      "        Unit_Price  Profit    Cost  Revenue  \n",
      "2            120.0  1366.0  1035.0      NaN  \n",
      "3            120.0  1188.0   900.0   2088.0  \n",
      "8            120.0  1096.0   990.0   2086.0  \n",
      "9            120.0  1046.0   945.0   1991.0  \n",
      "30           120.0  1476.0   900.0   2376.0  \n",
      "...            ...     ...     ...      ...  \n",
      "113012        64.0   995.0   672.0   1667.0  \n",
      "113021        64.0   968.0   600.0   1568.0  \n",
      "113022        64.0   929.0   576.0   1505.0  \n",
      "113023        64.0  1084.0   672.0   1756.0  \n",
      "113024        64.0  1007.0   624.0   1631.0  \n",
      "\n",
      "[10020 rows x 18 columns]\n"
     ]
    }
   ],
   "source": [
    "# Data Manipulation\n",
    "import pandas as pd\n",
    "\n",
    "# Data Visualisation\n",
    "import matplotlib.pyplot as plt\n",
    "\n",
    "%matplotlib inline\n",
    "import seaborn as sns\n",
    "\n",
    "# Import csv data\n",
    "df = pd.read_csv('sales_data_na.csv')\n",
    "\n",
    "# Calculate the IQR\n",
    "Q1 = df['Profit'].quantile(0.25)\n",
    "Q3 = df['Profit'].quantile(0.75)\n",
    "IQR = Q3 - Q1\n",
    "\n",
    "\n",
    "# Identify the outliers using the IQR method\n",
    "outliers = df[(df['Profit'] < Q1 - 1.5 * IQR) | (df['Profit'] > Q3 + 1.5 * IQR)]\n",
    "\n",
    "print(outliers)\n"
   ]
  },
  {
   "cell_type": "code",
   "execution_count": null,
   "id": "a930013e",
   "metadata": {},
   "outputs": [],
   "source": []
  }
 ],
 "metadata": {
  "kernelspec": {
   "display_name": "Python 3 (ipykernel)",
   "language": "python",
   "name": "python3"
  },
  "language_info": {
   "codemirror_mode": {
    "name": "ipython",
    "version": 3
   },
   "file_extension": ".py",
   "mimetype": "text/x-python",
   "name": "python",
   "nbconvert_exporter": "python",
   "pygments_lexer": "ipython3",
   "version": "3.11.1"
  }
 },
 "nbformat": 4,
 "nbformat_minor": 5
}
