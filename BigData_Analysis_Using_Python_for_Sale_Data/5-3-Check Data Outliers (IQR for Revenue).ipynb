{
 "cells": [
  {
   "cell_type": "code",
   "execution_count": 1,
   "id": "54dbc97e",
   "metadata": {},
   "outputs": [
    {
     "name": "stdout",
     "output_type": "stream",
     "text": [
      "             Date  Day     Month  Year  Customer_Age       Age_Group   \n",
      "3       3/23/2016   23     March  2016          49.0  Adults (35-64)  \\\n",
      "8       2/22/2014   22  February  2014          35.0  Adults (35-64)   \n",
      "9       2/22/2016   22  February  2016          35.0  Adults (35-64)   \n",
      "30      3/13/2014   13     March  2014          48.0  Adults (35-64)   \n",
      "31      3/13/2016   13     March  2016          48.0  Adults (35-64)   \n",
      "...           ...  ...       ...   ...           ...             ...   \n",
      "112070  2/27/2016   27  February  2016          37.0  Adults (35-64)   \n",
      "112071  6/13/2014   13      June  2014          37.0  Adults (35-64)   \n",
      "112072  6/13/2016   13      June  2016          37.0  Adults (35-64)   \n",
      "112073  7/24/2013   24      July  2013          52.0  Adults (35-64)   \n",
      "112074  7/24/2015   24      July  2015          52.0  Adults (35-64)   \n",
      "\n",
      "       Customer_Gender         Country             State Product_Category   \n",
      "3                    M       Australia   New South Wales      Accessories  \\\n",
      "8                    M       Australia          Victoria      Accessories   \n",
      "9                    M       Australia          Victoria      Accessories   \n",
      "30                   F          Canada  British Columbia      Accessories   \n",
      "31                   F          Canada  British Columbia      Accessories   \n",
      "...                ...             ...               ...              ...   \n",
      "112070               F  United Kingdom           England            Bikes   \n",
      "112071               F  United Kingdom           England            Bikes   \n",
      "112072               F  United Kingdom           England            Bikes   \n",
      "112073               M       Australia        Queensland         Clothing   \n",
      "112074               M       Australia        Queensland         Clothing   \n",
      "\n",
      "         Sub_Category                  Product  Order_Quantity  Unit_Cost   \n",
      "3          Bike Racks      Hitch Rack - 4-Bike              20       45.0  \\\n",
      "8          Bike Racks      Hitch Rack - 4-Bike              22       45.0   \n",
      "9          Bike Racks      Hitch Rack - 4-Bike              21       45.0   \n",
      "30         Bike Racks      Hitch Rack - 4-Bike              20       45.0   \n",
      "31         Bike Racks      Hitch Rack - 4-Bike              22       45.0   \n",
      "...               ...                      ...             ...        ...   \n",
      "112070  Touring Bikes    Touring-1000 Blue, 54               2     1482.0   \n",
      "112071  Touring Bikes    Touring-1000 Blue, 54               1     1482.0   \n",
      "112072  Touring Bikes    Touring-1000 Blue, 54               2     1482.0   \n",
      "112073          Vests  Touring-1000 Yellow, 50              27     1482.0   \n",
      "112074          Vests  Touring-1000 Yellow, 50              29     1482.0   \n",
      "\n",
      "        Unit_Price   Profit     Cost  Revenue  \n",
      "3            120.0   1188.0    900.0   2088.0  \n",
      "8            120.0   1096.0    990.0   2086.0  \n",
      "9            120.0   1046.0    945.0   1991.0  \n",
      "30           120.0   1476.0    900.0   2376.0  \n",
      "31           120.0   1624.0    990.0   2614.0  \n",
      "...            ...      ...      ...      ...  \n",
      "112070      2384.0   1613.0   2964.0   4577.0  \n",
      "112071      2384.0    807.0   1482.0   2289.0  \n",
      "112072      2384.0   1613.0   2964.0   4577.0  \n",
      "112073      2384.0  14055.0  40014.0  54069.0  \n",
      "112074      2384.0  15096.0  42978.0  58074.0  \n",
      "\n",
      "[14763 rows x 18 columns]\n"
     ]
    }
   ],
   "source": [
    "# Data Manipulation\n",
    "import pandas as pd\n",
    "\n",
    "# Data Visualisation\n",
    "import matplotlib.pyplot as plt\n",
    "\n",
    "%matplotlib inline\n",
    "import seaborn as sns\n",
    "\n",
    "# Import csv data\n",
    "df = pd.read_csv('sales_data_na.csv')\n",
    "\n",
    "# Calculate the IQR\n",
    "Q1 = df['Revenue'].quantile(0.25)\n",
    "Q3 = df['Revenue'].quantile(0.75)\n",
    "IQR = Q3 - Q1\n",
    "\n",
    "\n",
    "# Identify the outliers using the IQR method\n",
    "outliers = df[(df['Revenue'] < Q1 - 1.5 * IQR) | (df['Revenue'] > Q3 + 1.5 * IQR)]\n",
    "\n",
    "print(outliers)\n"
   ]
  },
  {
   "cell_type": "code",
   "execution_count": null,
   "id": "a930013e",
   "metadata": {},
   "outputs": [],
   "source": []
  }
 ],
 "metadata": {
  "kernelspec": {
   "display_name": "Python 3 (ipykernel)",
   "language": "python",
   "name": "python3"
  },
  "language_info": {
   "codemirror_mode": {
    "name": "ipython",
    "version": 3
   },
   "file_extension": ".py",
   "mimetype": "text/x-python",
   "name": "python",
   "nbconvert_exporter": "python",
   "pygments_lexer": "ipython3",
   "version": "3.11.1"
  }
 },
 "nbformat": 4,
 "nbformat_minor": 5
}
